{
 "cells": [
  {
   "metadata": {
    "ExecuteTime": {
     "end_time": "2025-06-01T23:37:57.982477Z",
     "start_time": "2025-06-01T23:37:54.431059Z"
    }
   },
   "cell_type": "code",
   "source": [
    "from datasets import load_dataset\n",
    "\n",
    "ds = load_dataset(\"shibing624/source_code\", \"python\")"
   ],
   "id": "51384ce5baaf817e",
   "outputs": [
    {
     "name": "stderr",
     "output_type": "stream",
     "text": [
      "C:\\Users\\hui\\PycharmProjects\\gateway_qa\\.venv\\Lib\\site-packages\\tqdm\\auto.py:21: TqdmWarning: IProgress not found. Please update jupyter and ipywidgets. See https://ipywidgets.readthedocs.io/en/stable/user_install.html\n",
      "  from .autonotebook import tqdm as notebook_tqdm\n"
     ]
    }
   ],
   "execution_count": 1
  },
  {
   "metadata": {
    "ExecuteTime": {
     "end_time": "2025-06-01T23:37:57.990301Z",
     "start_time": "2025-06-01T23:37:57.985054Z"
    }
   },
   "cell_type": "code",
   "source": "# ds['train']['text']",
   "id": "ecff3483c3a92488",
   "outputs": [],
   "execution_count": 2
  },
  {
   "metadata": {
    "ExecuteTime": {
     "end_time": "2025-06-01T23:38:02.083389Z",
     "start_time": "2025-06-01T23:37:57.998118Z"
    }
   },
   "cell_type": "code",
   "source": "selected_queries = ds['train']['text']",
   "id": "243a736c450a7d05",
   "outputs": [],
   "execution_count": 3
  },
  {
   "metadata": {
    "ExecuteTime": {
     "end_time": "2025-06-01T23:38:02.093846Z",
     "start_time": "2025-06-01T23:38:02.087095Z"
    }
   },
   "cell_type": "code",
   "source": [
    "# selected_queries = []\n",
    "# for text, label in list(zip(ds['train']['text'], ds['train']['labels'])):\n",
    "#     if label != 'en':\n",
    "#         selected_queries.append(text)"
   ],
   "id": "91db35602af57342",
   "outputs": [],
   "execution_count": 4
  },
  {
   "metadata": {
    "ExecuteTime": {
     "end_time": "2025-06-01T23:42:15.441300Z",
     "start_time": "2025-06-01T23:42:15.429851Z"
    }
   },
   "cell_type": "code",
   "source": [
    "test_path = 'tests/python.txt'\n",
    "increment = 100"
   ],
   "id": "36235a897b80eb4d",
   "outputs": [],
   "execution_count": 7
  },
  {
   "metadata": {
    "ExecuteTime": {
     "end_time": "2025-06-01T23:42:17.849968Z",
     "start_time": "2025-06-01T23:42:16.857283Z"
    }
   },
   "cell_type": "code",
   "source": [
    "with open(test_path, 'w', encoding='utf-8') as f:\n",
    "    i = 0\n",
    "    while i + increment < len(selected_queries):\n",
    "        lines = selected_queries[i: i+increment]\n",
    "        lines = [l.replace('\\n', '\\t') for l in lines]\n",
    "        f.write(' '.join(lines) + '\\n')\n",
    "        i += increment"
   ],
   "id": "f0282c1b75e97f8c",
   "outputs": [],
   "execution_count": 8
  }
 ],
 "metadata": {
  "kernelspec": {
   "display_name": "Python 3",
   "language": "python",
   "name": "python3"
  },
  "language_info": {
   "codemirror_mode": {
    "name": "ipython",
    "version": 2
   },
   "file_extension": ".py",
   "mimetype": "text/x-python",
   "name": "python",
   "nbconvert_exporter": "python",
   "pygments_lexer": "ipython2",
   "version": "2.7.6"
  }
 },
 "nbformat": 4,
 "nbformat_minor": 5
}
